{
 "cells": [
  {
   "cell_type": "code",
   "execution_count": 4,
   "id": "609253a6",
   "metadata": {},
   "outputs": [
    {
     "name": "stdout",
     "output_type": "stream",
     "text": [
      "3.6363636363636367\n"
     ]
    }
   ],
   "source": [
    "a = ((12 - 4) / (2+9)*5);\n",
    "print(a);"
   ]
  },
  {
   "cell_type": "code",
   "execution_count": 5,
   "id": "748f7eb2",
   "metadata": {},
   "outputs": [
    {
     "name": "stdout",
     "output_type": "stream",
     "text": [
      "55.0\n"
     ]
    }
   ],
   "source": [
    "a = 12 - 4 / 2 + 9 * 5;\n",
    "print(a);"
   ]
  },
  {
   "cell_type": "code",
   "execution_count": 8,
   "id": "73a62b41",
   "metadata": {},
   "outputs": [
    {
     "name": "stdout",
     "output_type": "stream",
     "text": [
      "1\n"
     ]
    }
   ],
   "source": [
    "x = 10;\n",
    "y = x%3;\n",
    "print(y);"
   ]
  },
  {
   "cell_type": "code",
   "execution_count": 9,
   "id": "baa700f7",
   "metadata": {},
   "outputs": [
    {
     "name": "stdout",
     "output_type": "stream",
     "text": [
      "12\n"
     ]
    }
   ],
   "source": [
    "f = 10;\n",
    "f = 12;\n",
    "print(f);"
   ]
  },
  {
   "cell_type": "code",
   "execution_count": 10,
   "id": "335d6f80",
   "metadata": {},
   "outputs": [
    {
     "name": "stdout",
     "output_type": "stream",
     "text": [
      "7\n"
     ]
    }
   ],
   "source": [
    "g = 5;\n",
    "g = g + 2;\n",
    "print(g);"
   ]
  },
  {
   "cell_type": "code",
   "execution_count": 11,
   "id": "fc1e549c",
   "metadata": {},
   "outputs": [
    {
     "name": "stdout",
     "output_type": "stream",
     "text": [
      "6\n"
     ]
    }
   ],
   "source": [
    "a = 3;\n",
    "a+=3;\n",
    "print(a);"
   ]
  },
  {
   "cell_type": "code",
   "execution_count": 12,
   "id": "7bf5dc40",
   "metadata": {},
   "outputs": [
    {
     "name": "stdout",
     "output_type": "stream",
     "text": [
      "6\n"
     ]
    }
   ],
   "source": [
    "a = 3;\n",
    "a =a+ 3;\n",
    "print(a);"
   ]
  },
  {
   "cell_type": "code",
   "execution_count": 16,
   "id": "68f4afaa",
   "metadata": {},
   "outputs": [
    {
     "name": "stdout",
     "output_type": "stream",
     "text": [
      "my name is fahad khan kabooro\n"
     ]
    }
   ],
   "source": [
    "a = \"fahad khan kabooro\"\n",
    "print(\"my name is \"+ a)"
   ]
  },
  {
   "cell_type": "code",
   "execution_count": 32,
   "id": "4c7709d2",
   "metadata": {},
   "outputs": [
    {
     "name": "stdout",
     "output_type": "stream",
     "text": [
      " name fahad khan profession programmer in progress  martial married  kids yes i have daughter\n"
     ]
    }
   ],
   "source": [
    "name = \"fahad khan\"\n",
    "profession =\"programmer in progress\"\n",
    "martial = \"married\"\n",
    "kids =\"yes i have daughter\"\n",
    "print(\" name \" + name,\"profession \" + profession, \" martial \"+ martial,\" kids \"+ kids)"
   ]
  },
  {
   "cell_type": "code",
   "execution_count": 35,
   "id": "65f1da1f",
   "metadata": {},
   "outputs": [
    {
     "name": "stdout",
     "output_type": "stream",
     "text": [
      "Allo for Ride\n"
     ]
    }
   ],
   "source": [
    "gender =\"male\"\n",
    "if gender ==\"male\":\n",
    "    print(\"Allo for Ride\")"
   ]
  },
  {
   "cell_type": "raw",
   "id": "68809d2e",
   "metadata": {},
   "source": []
  },
  {
   "cell_type": "code",
   "execution_count": 37,
   "id": "5403c38c",
   "metadata": {},
   "outputs": [
    {
     "name": "stdout",
     "output_type": "stream",
     "text": [
      "Allow for Ride\n"
     ]
    }
   ],
   "source": [
    "gender=\"female\"\n",
    "if gender !=\"male\":\n",
    "    print(\"Allow for Ride\")\n",
    "else:\n",
    "    print(\"Rok Lo\")"
   ]
  },
  {
   "cell_type": "code",
   "execution_count": 40,
   "id": "1bfdafe5",
   "metadata": {},
   "outputs": [
    {
     "name": "stdout",
     "output_type": "stream",
     "text": [
      "ROK LO\n"
     ]
    }
   ],
   "source": [
    "age = 10\n",
    "gender =\"female\"\n",
    "if age > 18 or gender ==\"male\":\n",
    "    print(\"Allow for Ride\");\n",
    "else:\n",
    "    print(\"ROK LO\")\n"
   ]
  },
  {
   "cell_type": "code",
   "execution_count": 51,
   "id": "97cb9cd8",
   "metadata": {},
   "outputs": [
    {
     "name": "stdout",
     "output_type": "stream",
     "text": [
      "Grade B\n"
     ]
    }
   ],
   "source": [
    "percentage = 64;\n",
    "if percentage < 100 and percentage > 80 :\n",
    "    print(\"Grade A+\");\n",
    "elif percentage < 80 and percentage > 70 :\n",
    "    print(\"Grade A\");\n",
    "elif percentage < 70 and percentage > 60 :\n",
    "    print(\"Grade B\");\n",
    "elif percentage < 60 and percentage > 50 :\n",
    "    print(\"Grade B\");\n",
    "else :\n",
    "    print(\"Fail\")"
   ]
  },
  {
   "cell_type": "code",
   "execution_count": 52,
   "id": "a93bd653",
   "metadata": {},
   "outputs": [
    {
     "name": "stdout",
     "output_type": "stream",
     "text": [
      "Grade A\n"
     ]
    }
   ],
   "source": [
    "percentage = 74.5;\n",
    "if percentage < 100 and percentage > 80 :\n",
    "    print(\"Grade A+\");\n",
    "elif percentage < 80 and percentage > 70 :\n",
    "    print(\"Grade A\");\n",
    "elif percentage < 70 and percentage > 60 :\n",
    "    print(\"Grade B\");\n",
    "elif percentage < 60 and percentage > 50 :\n",
    "    print(\"Grade B\");\n",
    "else :\n",
    "    print(\"Fail\")"
   ]
  },
  {
   "cell_type": "code",
   "execution_count": 53,
   "id": "57ab4502",
   "metadata": {},
   "outputs": [
    {
     "name": "stdout",
     "output_type": "stream",
     "text": [
      "Fail\n"
     ]
    }
   ],
   "source": [
    "percentage = 42;\n",
    "if percentage < 100 and percentage > 80 :\n",
    "    print(\"Grade A+\");\n",
    "elif percentage < 80 and percentage > 70 :\n",
    "    print(\"Grade A\");\n",
    "elif percentage < 70 and percentage > 60 :\n",
    "    print(\"Grade B\");\n",
    "elif percentage < 60 and percentage > 50 :\n",
    "    print(\"Grade B\");\n",
    "else :\n",
    "    print(\"Fail\")"
   ]
  },
  {
   "cell_type": "code",
   "execution_count": 2,
   "id": "dae3a989",
   "metadata": {},
   "outputs": [
    {
     "name": "stdout",
     "output_type": "stream",
     "text": [
      "Enter Englisg Marks75\n",
      "Enter Islamiyat Marks78\n",
      "Enter Maths MArks95\n",
      "A\n"
     ]
    }
   ],
   "source": [
    "eng =input(\"Enter Englisg Marks\")\n",
    "isl =input(\"Enter Islamiyat Marks\")\n",
    "maths =input(\"Enter Maths MArks\")\n",
    "eng = 70\n",
    "isl = 65\n",
    "maths = 95\n",
    "total = 300\n",
    "percent = (eng + isl + maths)/total*100\n",
    "if percent < 100 and percent >+ 80:\n",
    "    print(\"A+\");\n",
    "elif percent < 80 and percent >= 70:\n",
    "    print(\"A\")\n",
    "elif percent <70 and percent >= 60:\n",
    "    print(\"B\");\n",
    "elif percent < 60 and percent >= 50:\n",
    "    print(\"C\");\n",
    "elif percent < 50 and percent >= 40:\n",
    "    print(\"D\");\n",
    "elif percent < 40 and percent >= 33:\n",
    "    print(\"E\");\n",
    "elif percent < 0 and percent >= 100:\n",
    "    print(\"You did not write correct percentage\")\n",
    "else :\n",
    "    print(\"Fail\")"
   ]
  },
  {
   "cell_type": "code",
   "execution_count": 4,
   "id": "f62f7ce5",
   "metadata": {},
   "outputs": [
    {
     "name": "stdout",
     "output_type": "stream",
     "text": [
      "Enter the value :78\n",
      "128\n"
     ]
    }
   ],
   "source": [
    "x =int(input(\"Enter the value :\"));\n",
    "y = 50;\n",
    "z = x + y;\n",
    "print(z)"
   ]
  },
  {
   "cell_type": "code",
   "execution_count": 6,
   "id": "5f6c509d",
   "metadata": {},
   "outputs": [
    {
     "name": "stdout",
     "output_type": "stream",
     "text": [
      "Enter Englisg Marks:70\n",
      "Enter Islamiyat Marks: 60\n",
      "Enter Maths MArks: 50\n",
      "B\n"
     ]
    }
   ],
   "source": [
    "eng =int(input(\"Enter Englisg Marks:\"));\n",
    "isl =int(input(\"Enter Islamiyat Marks: \"));\n",
    "maths =int(input(\"Enter Maths MArks: \"));\n",
    "total = 300\n",
    "percent = (eng + isl + maths)/total*100\n",
    "if percent < 100 and percent >+ 80:\n",
    "    print(\"A+\");\n",
    "elif percent < 80 and percent >= 70:\n",
    "    print(\"A\")\n",
    "elif percent <70 and percent >= 60:\n",
    "    print(\"B\");\n",
    "elif percent < 60 and percent >= 50:\n",
    "    print(\"C\");\n",
    "elif percent < 50 and percent >= 40:\n",
    "    print(\"D\");\n",
    "elif percent < 40 and percent >= 33:\n",
    "    print(\"E\");\n",
    "elif percent < 0 and percent >= 100:\n",
    "    print(\"You did not write correct percentage\")\n",
    "else :\n",
    "    print(\"Fail\")"
   ]
  },
  {
   "cell_type": "code",
   "execution_count": 7,
   "id": "179ecbc5",
   "metadata": {},
   "outputs": [
    {
     "name": "stdout",
     "output_type": "stream",
     "text": [
      "True\n"
     ]
    }
   ],
   "source": [
    "x = 10;\n",
    "y = 12;\n",
    "a = 30;\n",
    "b = 8;\n",
    "if x+y == a-b:\n",
    "    print(True);\n",
    "else:\n",
    "    print(False);"
   ]
  },
  {
   "cell_type": "code",
   "execution_count": 9,
   "id": "75a085ba",
   "metadata": {},
   "outputs": [
    {
     "name": "stdout",
     "output_type": "stream",
     "text": [
      "Enter age 18\n",
      "Enter genderfemale\n",
      "Dont Allow\n"
     ]
    }
   ],
   "source": [
    "age = int(input(\"Enter age \"));\n",
    "gender = input(\"Enter gender\");\n",
    "if age > 18 and gender ==\"male\":\n",
    "    print(\"Allow\");\n",
    "else:\n",
    "    print(\"Dont Allow\");"
   ]
  },
  {
   "cell_type": "code",
   "execution_count": 13,
   "id": "99dc84e1",
   "metadata": {},
   "outputs": [
    {
     "name": "stdout",
     "output_type": "stream",
     "text": [
      "Enter age: 18\n",
      "Enter gender: male\n",
      "Allow\n"
     ]
    }
   ],
   "source": [
    "age = int(input(\"Enter age: \"));\n",
    "gender = input(\"Enter gender: \");\n",
    "if age >= 18 and gender ==\"male\":\n",
    "    print(\"Allow\");\n",
    "else:\n",
    "    print(\"Dont Allow\");"
   ]
  },
  {
   "cell_type": "code",
   "execution_count": 14,
   "id": "52d4e738",
   "metadata": {},
   "outputs": [
    {
     "name": "stdout",
     "output_type": "stream",
     "text": [
      "Hello\n",
      "World\n"
     ]
    }
   ],
   "source": [
    "\"\"\"We are learning python\n",
    "learning List now \"\"\"\n",
    "print(\"Hello\\nWorld\")"
   ]
  },
  {
   "cell_type": "code",
   "execution_count": null,
   "id": "a29e3bb4",
   "metadata": {},
   "outputs": [],
   "source": []
  }
 ],
 "metadata": {
  "kernelspec": {
   "display_name": "Python 3",
   "language": "python",
   "name": "python3"
  },
  "language_info": {
   "codemirror_mode": {
    "name": "ipython",
    "version": 3
   },
   "file_extension": ".py",
   "mimetype": "text/x-python",
   "name": "python",
   "nbconvert_exporter": "python",
   "pygments_lexer": "ipython3",
   "version": "3.8.8"
  }
 },
 "nbformat": 4,
 "nbformat_minor": 5
}
